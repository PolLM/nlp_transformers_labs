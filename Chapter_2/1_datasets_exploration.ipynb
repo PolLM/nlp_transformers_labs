{
 "cells": [
  {
   "cell_type": "code",
   "execution_count": 1,
   "metadata": {},
   "outputs": [],
   "source": [
    "from datasets import list_datasets\n",
    "from huggingface_hub import HfApi"
   ]
  },
  {
   "cell_type": "code",
   "execution_count": 2,
   "metadata": {},
   "outputs": [
    {
     "name": "stderr",
     "output_type": "stream",
     "text": [
      "/tmp/ipykernel_20670/1961854229.py:4: FutureWarning: list_datasets is deprecated and will be removed in the next major version of datasets. Use 'huggingface_hub.list_datasets' instead.\n",
      "  all_datasets = list_datasets() #!!! Deprecated\n"
     ]
    },
    {
     "name": "stdout",
     "output_type": "stream",
     "text": [
      "Total datasets: 189680\n"
     ]
    }
   ],
   "source": [
    "### List datasets ###\n",
    "#!pip install datasets\n",
    "\n",
    "all_datasets = list_datasets() #!!! Deprecated\n",
    "print(f\"Total datasets: {len(all_datasets)}\")"
   ]
  },
  {
   "cell_type": "code",
   "execution_count": 3,
   "metadata": {},
   "outputs": [
    {
     "name": "stdout",
     "output_type": "stream",
     "text": [
      "Top 5 downloaded datasets for image classification:\n",
      "DatasetInfo(id='MahmoodLab/hest', author='MahmoodLab', sha='1d1f7d406cf48b296305b689abc59a7e696994b1', created_at=datetime.datetime(2024, 6, 13, 13, 14, 17, tzinfo=datetime.timezone.utc), last_modified=datetime.datetime(2024, 7, 30, 14, 49, 5, tzinfo=datetime.timezone.utc), private=False, gated='auto', disabled=False, downloads=162871, downloads_all_time=None, likes=12, paperswithcode_id=None, tags=['task_categories:image-classification', 'task_categories:feature-extraction', 'task_categories:image-segmentation', 'language:en', 'license:cc-by-nc-sa-4.0', 'size_categories:100B<n<1T', 'arxiv:2406.16192', 'region:us', 'spatial-transcriptomics', 'histology', 'pathology'], card_data=None, siblings=None)\n",
      "DatasetInfo(id='uoft-cs/cifar10', author='uoft-cs', sha='0b2714987fa478483af9968de7c934580d0bb9a2', created_at=datetime.datetime(2022, 3, 2, 23, 29, 22, tzinfo=datetime.timezone.utc), last_modified=datetime.datetime(2024, 1, 4, 6, 53, 11, tzinfo=datetime.timezone.utc), private=False, gated=False, disabled=False, downloads=57301, downloads_all_time=None, likes=53, paperswithcode_id='cifar-10', tags=['task_categories:image-classification', 'annotations_creators:crowdsourced', 'language_creators:found', 'multilinguality:monolingual', 'source_datasets:extended|other-80-Million-Tiny-Images', 'language:en', 'license:unknown', 'size_categories:10K<n<100K', 'format:parquet', 'modality:image', 'library:datasets', 'library:pandas', 'library:mlcroissant', 'library:polars', 'region:us'], card_data=None, siblings=None)\n",
      "DatasetInfo(id='ILSVRC/imagenet-1k', author='ILSVRC', sha='4603483700ee984ea9debe3ddbfdeae86f6489eb', created_at=datetime.datetime(2022, 5, 2, 16, 33, 23, tzinfo=datetime.timezone.utc), last_modified=datetime.datetime(2024, 7, 16, 13, 30, 57, tzinfo=datetime.timezone.utc), private=False, gated='auto', disabled=False, downloads=33133, downloads_all_time=None, likes=366, paperswithcode_id='imagenet-1k-1', tags=['task_categories:image-classification', 'task_ids:multi-class-image-classification', 'annotations_creators:crowdsourced', 'language_creators:crowdsourced', 'multilinguality:monolingual', 'source_datasets:original', 'language:en', 'license:other', 'size_categories:1M<n<10M', 'arxiv:1409.0575', 'arxiv:1912.07726', 'arxiv:1811.12231', 'arxiv:2109.13228', 'region:us'], card_data=None, siblings=None)\n",
      "DatasetInfo(id='sasha/dog-food', author='sasha', sha='9880353aa4e35baf9e6a6d06ace7f081e8f8f4b7', created_at=datetime.datetime(2022, 6, 20, 18, 54, 18, tzinfo=datetime.timezone.utc), last_modified=datetime.datetime(2022, 10, 25, 10, 32, 37, tzinfo=datetime.timezone.utc), private=False, gated=False, disabled=False, downloads=30301, downloads_all_time=None, likes=2, paperswithcode_id=None, tags=['task_categories:image-classification', 'task_ids:multi-class-image-classification', 'annotations_creators:found', 'language_creators:found', 'multilinguality:monolingual', 'source_datasets:original', 'language:en', 'license:unknown', 'size_categories:1K<n<10K', 'format:parquet', 'modality:image', 'library:datasets', 'library:pandas', 'library:mlcroissant', 'library:polars', 'region:us'], card_data=None, siblings=None)\n",
      "DatasetInfo(id='ylecun/mnist', author='ylecun', sha='b06aab39e05f7bcd9635d18ed25d06eae523c574', created_at=datetime.datetime(2022, 3, 2, 23, 29, 22, tzinfo=datetime.timezone.utc), last_modified=datetime.datetime(2024, 1, 18, 11, 9, 11, tzinfo=datetime.timezone.utc), private=False, gated=False, disabled=False, downloads=19471, downloads_all_time=None, likes=93, paperswithcode_id='mnist', tags=['task_categories:image-classification', 'task_ids:multi-class-image-classification', 'annotations_creators:expert-generated', 'language_creators:found', 'multilinguality:monolingual', 'source_datasets:extended|other-nist', 'language:en', 'license:mit', 'size_categories:10K<n<100K', 'modality:image', 'library:datasets', 'library:mlcroissant', 'region:us'], card_data=None, siblings=None)\n",
      "\n",
      "\n",
      "Total pytorch models for image classification with imagenet: 53\n"
     ]
    }
   ],
   "source": [
    "### List datasets and models using huggingface hub (new approach) ###\n",
    "# FutureWarning: list_datasets is deprecated and will be removed in the next major version of datasets. Use 'huggingface_hub.list_datasets' instead \n",
    "# -> https://huggingface.co/docs/huggingface_hub/main/en/guides/search\n",
    "\n",
    "hf_api = HfApi()\n",
    "\n",
    "# list_datasets and list_models return a generator object\n",
    "# one can apply filters to the generator object: \n",
    "# -> https://huggingface.co/docs/huggingface_hub/main/en/package_reference/hf_api#huggingface_hub.HfApi.list_datasets\n",
    "\n",
    "datasets = hf_api.list_datasets(\n",
    "    filter=\"task_categories:image-classification\",\n",
    "    sort=\"downloads\", \n",
    "    direction=-1, \n",
    "    limit=5\n",
    ")\n",
    "print(\"Top 5 downloaded datasets for image classification:\")\n",
    "for dataset in datasets:\n",
    "    print(dataset)\n",
    "print('\\n')\n",
    "\n",
    "models = hf_api.list_models(\n",
    "\ttask=\"image-classification\",\n",
    "\tlibrary=\"pytorch\",\n",
    "\ttrained_dataset=\"imagenet\",\n",
    ")\n",
    "print(f\"Total pytorch models for image classification with imagenet: {len(list(models))}\")\n",
    "\n",
    "# %%\n"
   ]
  }
 ],
 "metadata": {
  "kernelspec": {
   "display_name": "nlp-hf-lab",
   "language": "python",
   "name": "python3"
  },
  "language_info": {
   "codemirror_mode": {
    "name": "ipython",
    "version": 3
   },
   "file_extension": ".py",
   "mimetype": "text/x-python",
   "name": "python",
   "nbconvert_exporter": "python",
   "pygments_lexer": "ipython3",
   "version": "3.11.7"
  }
 },
 "nbformat": 4,
 "nbformat_minor": 2
}
