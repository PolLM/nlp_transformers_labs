{
 "cells": [
  {
   "cell_type": "code",
   "execution_count": 1,
   "metadata": {},
   "outputs": [],
   "source": [
    "from datasets import load_dataset\n",
    "import pandas as pd"
   ]
  },
  {
   "cell_type": "code",
   "execution_count": 2,
   "metadata": {},
   "outputs": [
    {
     "data": {
      "text/plain": [
       "DatasetDict({\n",
       "    train: Dataset({\n",
       "        features: ['text', 'label'],\n",
       "        num_rows: 16000\n",
       "    })\n",
       "    validation: Dataset({\n",
       "        features: ['text', 'label'],\n",
       "        num_rows: 2000\n",
       "    })\n",
       "    test: Dataset({\n",
       "        features: ['text', 'label'],\n",
       "        num_rows: 2000\n",
       "    })\n",
       "})"
      ]
     },
     "execution_count": 2,
     "metadata": {},
     "output_type": "execute_result"
    }
   ],
   "source": [
    "# Load the emotion dataset\n",
    "# !!! The dataset contains custom code, possible security risk for unknown datasets\n",
    "emotions = load_dataset(\"emotion\", trust_remote_code=True)\n",
    "emotions"
   ]
  },
  {
   "cell_type": "code",
   "execution_count": 3,
   "metadata": {},
   "outputs": [
    {
     "name": "stdout",
     "output_type": "stream",
     "text": [
      "Dataset({\n",
      "    features: ['text', 'label'],\n",
      "    num_rows: 16000\n",
      "})\n",
      "\n",
      "Dataset info:\n",
      "DatasetInfo(description='Emotion is a dataset of English Twitter messages with six basic emotions: anger, fear, joy, love, sadness, and surprise. For more detailed information please refer to the paper.\\n', citation='@inproceedings{saravia-etal-2018-carer,\\n    title = \"{CARER}: Contextualized Affect Representations for Emotion Recognition\",\\n    author = \"Saravia, Elvis  and\\n      Liu, Hsien-Chi Toby  and\\n      Huang, Yen-Hao  and\\n      Wu, Junlin  and\\n      Chen, Yi-Shin\",\\n    booktitle = \"Proceedings of the 2018 Conference on Empirical Methods in Natural Language Processing\",\\n    month = oct # \"-\" # nov,\\n    year = \"2018\",\\n    address = \"Brussels, Belgium\",\\n    publisher = \"Association for Computational Linguistics\",\\n    url = \"https://www.aclweb.org/anthology/D18-1404\",\\n    doi = \"10.18653/v1/D18-1404\",\\n    pages = \"3687--3697\",\\n    abstract = \"Emotions are expressed in nuanced ways, which varies by collective or individual experiences, knowledge, and beliefs. Therefore, to understand emotion, as conveyed through text, a robust mechanism capable of capturing and modeling different linguistic nuances and phenomena is needed. We propose a semi-supervised, graph-based algorithm to produce rich structural descriptors which serve as the building blocks for constructing contextualized affect representations from text. The pattern-based representations are further enriched with word embeddings and evaluated through several emotion recognition tasks. Our experimental results demonstrate that the proposed method outperforms state-of-the-art techniques on emotion recognition tasks.\",\\n}\\n', homepage='https://github.com/dair-ai/emotion_dataset', license='The dataset should be used for educational and research purposes only', features={'text': Value(dtype='string', id=None), 'label': ClassLabel(names=['sadness', 'joy', 'love', 'anger', 'fear', 'surprise'], id=None)}, post_processed=None, supervised_keys=SupervisedKeysData(input='text', output='label'), task_templates=[TextClassification(task='text-classification', text_column='text', label_column='label')], builder_name='emotion', dataset_name='emotion', config_name='split', version=1.0.0, splits={'train': SplitInfo(name='train', num_bytes=1741533, num_examples=16000, shard_lengths=None, dataset_name='emotion'), 'validation': SplitInfo(name='validation', num_bytes=214695, num_examples=2000, shard_lengths=None, dataset_name='emotion'), 'test': SplitInfo(name='test', num_bytes=217173, num_examples=2000, shard_lengths=None, dataset_name='emotion')}, download_checksums={'data/train.jsonl.gz': {'num_bytes': 591930, 'checksum': None}, 'data/validation.jsonl.gz': {'num_bytes': 74018, 'checksum': None}, 'data/test.jsonl.gz': {'num_bytes': 74935, 'checksum': None}}, download_size=740883, post_processing_size=None, dataset_size=2173401, size_in_bytes=2914284)\n",
      "\n",
      "Dataset length:\n",
      "16000\n",
      "\n",
      "Dataset first item:\n",
      "{'text': 'i didnt feel humiliated', 'label': 0}\n",
      "\n",
      "Dataset first item keys:\n",
      "dict_keys(['text', 'label'])\n",
      "\n",
      "Dataset features:\n",
      "{'text': Value(dtype='string', id=None), 'label': ClassLabel(names=['sadness', 'joy', 'love', 'anger', 'fear', 'surprise'], id=None)}\n",
      "\n",
      "Dataset slice :5 :\n",
      "{'text': ['i didnt feel humiliated', 'i can go from feeling so hopeless to so damned hopeful just from being around someone who cares and is awake', 'im grabbing a minute to post i feel greedy wrong', 'i am ever feeling nostalgic about the fireplace i will know that it is still on the property', 'i am feeling grouchy'], 'label': [0, 0, 3, 2, 3]}\n",
      "\n",
      "Dataset slice of text :5 :\n",
      "['i didnt feel humiliated', 'i can go from feeling so hopeless to so damned hopeful just from being around someone who cares and is awake', 'im grabbing a minute to post i feel greedy wrong', 'i am ever feeling nostalgic about the fireplace i will know that it is still on the property', 'i am feeling grouchy']\n"
     ]
    }
   ],
   "source": [
    "# Select the train split and exploring the methods and attributes\n",
    "train_ds = emotions['train']\n",
    "print(train_ds)\n",
    "print('\\nDataset info:')\n",
    "print(train_ds.info)\n",
    "print('\\nDataset length:')\n",
    "print(len(train_ds))\n",
    "print('\\nDataset first item:')\n",
    "print(train_ds[0])\n",
    "print('\\nDataset first item keys:')\n",
    "print(train_ds[0].keys())\n",
    "print('\\nDataset features:')\n",
    "print(train_ds.features)\n",
    "print('\\nDataset slice :5 :')\n",
    "print(train_ds[:5])\n",
    "print('\\nDataset slice of text :5 :')\n",
    "print(train_ds['text'][:5])"
   ]
  },
  {
   "cell_type": "code",
   "execution_count": 4,
   "metadata": {},
   "outputs": [
    {
     "data": {
      "text/html": [
       "<div>\n",
       "<style scoped>\n",
       "    .dataframe tbody tr th:only-of-type {\n",
       "        vertical-align: middle;\n",
       "    }\n",
       "\n",
       "    .dataframe tbody tr th {\n",
       "        vertical-align: top;\n",
       "    }\n",
       "\n",
       "    .dataframe thead th {\n",
       "        text-align: right;\n",
       "    }\n",
       "</style>\n",
       "<table border=\"1\" class=\"dataframe\">\n",
       "  <thead>\n",
       "    <tr style=\"text-align: right;\">\n",
       "      <th></th>\n",
       "      <th>text</th>\n",
       "      <th>label</th>\n",
       "    </tr>\n",
       "  </thead>\n",
       "  <tbody>\n",
       "    <tr>\n",
       "      <th>0</th>\n",
       "      <td>i didnt feel humiliated</td>\n",
       "      <td>0</td>\n",
       "    </tr>\n",
       "    <tr>\n",
       "      <th>1</th>\n",
       "      <td>i can go from feeling so hopeless to so damned...</td>\n",
       "      <td>0</td>\n",
       "    </tr>\n",
       "    <tr>\n",
       "      <th>2</th>\n",
       "      <td>im grabbing a minute to post i feel greedy wrong</td>\n",
       "      <td>3</td>\n",
       "    </tr>\n",
       "    <tr>\n",
       "      <th>3</th>\n",
       "      <td>i am ever feeling nostalgic about the fireplac...</td>\n",
       "      <td>2</td>\n",
       "    </tr>\n",
       "    <tr>\n",
       "      <th>4</th>\n",
       "      <td>i am feeling grouchy</td>\n",
       "      <td>3</td>\n",
       "    </tr>\n",
       "  </tbody>\n",
       "</table>\n",
       "</div>"
      ],
      "text/plain": [
       "                                                text  label\n",
       "0                            i didnt feel humiliated      0\n",
       "1  i can go from feeling so hopeless to so damned...      0\n",
       "2   im grabbing a minute to post i feel greedy wrong      3\n",
       "3  i am ever feeling nostalgic about the fireplac...      2\n",
       "4                               i am feeling grouchy      3"
      ]
     },
     "execution_count": 4,
     "metadata": {},
     "output_type": "execute_result"
    }
   ],
   "source": [
    "# From Datasets to DataFrames to plot and explore the data\n",
    "emotions.set_format(type='pandas')\n",
    "df = emotions['train'][:]\n",
    "df.head()"
   ]
  }
 ],
 "metadata": {
  "kernelspec": {
   "display_name": "nlp-hf-lab",
   "language": "python",
   "name": "python3"
  },
  "language_info": {
   "codemirror_mode": {
    "name": "ipython",
    "version": 3
   },
   "file_extension": ".py",
   "mimetype": "text/x-python",
   "name": "python",
   "nbconvert_exporter": "python",
   "pygments_lexer": "ipython3",
   "version": "3.9.19"
  }
 },
 "nbformat": 4,
 "nbformat_minor": 2
}
