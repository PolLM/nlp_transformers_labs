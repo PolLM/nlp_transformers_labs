{
 "cells": [
  {
   "cell_type": "code",
   "execution_count": 1,
   "metadata": {},
   "outputs": [
    {
     "name": "stdout",
     "output_type": "stream",
     "text": [
      "Using device: cuda\n"
     ]
    }
   ],
   "source": [
    "#I am redoing this notebook since I lost it. \n",
    "# Reminder: Push to github more often, specialy when working on your old computer\n",
    "\n",
    "from datasets import load_dataset, load_from_disk\n",
    "import pandas as pd\n",
    "import torch\n",
    "import torch.nn.functional as F\n",
    "from huggingface_hub import notebook_login\n",
    "from transformers import AutoTokenizer, AutoModelForSequenceClassification, Trainer, TrainingArguments\n",
    "from sklearn.metrics import accuracy_score, f1_score, ConfusionMatrixDisplay, confusion_matrix\n",
    "import numpy as np\n",
    "import matplotlib.pyplot as plt\n",
    "import os\n",
    "from dotenv import load_dotenv\n",
    "\n",
    "#Loading the environment variables\n",
    "load_dotenv() \n",
    "\n",
    "PROJECT_DIR = os.getenv(\"PROJECT_DIR\")\n",
    "HUGGINGFACE_TOKEN = os.getenv(\"HUGGINGFACE_TOKEN\")\n",
    "\n",
    "\n",
    "device = torch.device('cuda' if torch.cuda.is_available() else 'cpu')\n",
    "print('Using device:', device)"
   ]
  },
  {
   "cell_type": "markdown",
   "metadata": {},
   "source": [
    "### Fine-tuning transformer model"
   ]
  },
  {
   "cell_type": "code",
   "execution_count": 2,
   "metadata": {},
   "outputs": [
    {
     "name": "stderr",
     "output_type": "stream",
     "text": [
      "Some weights of DistilBertForSequenceClassification were not initialized from the model checkpoint at distilbert-base-uncased and are newly initialized: ['classifier.bias', 'classifier.weight', 'pre_classifier.bias', 'pre_classifier.weight']\n",
      "You should probably TRAIN this model on a down-stream task to be able to use it for predictions and inference.\n"
     ]
    }
   ],
   "source": [
    "# loading the pretrained model, we are using AutoModelForSequenceClassification and not AutoModel\n",
    "# because we are interested in the classification head of the model\n",
    "#!!! Notice that the classification head is randomly initialized\n",
    "\n",
    "num_labels = 6\n",
    "model_ckpt = 'distilbert-base-uncased'\n",
    "\n",
    "tokenizer = AutoTokenizer.from_pretrained(model_ckpt)\n",
    "model = AutoModelForSequenceClassification.from_pretrained(model_ckpt, num_labels=num_labels).to(device)"
   ]
  },
  {
   "cell_type": "code",
   "execution_count": 3,
   "metadata": {},
   "outputs": [],
   "source": [
    "# Let's re-load the emotions dataset\n",
    "#Tokenizing the whole dataset\n",
    "def tokenize(batch):\n",
    "    return tokenizer(batch['text'], padding=True, truncation=True)\n",
    "\n",
    "#Load back the emotions dataset\n",
    "emotions = load_dataset(\"emotion\", trust_remote_code=True)\n",
    "emotions_encoded = emotions.map(tokenize, batched=True, batch_size=None)"
   ]
  },
  {
   "cell_type": "code",
   "execution_count": 4,
   "metadata": {},
   "outputs": [],
   "source": [
    "# metrics function for the Trainer\n",
    "\n",
    "def compute_metrics(pred):\n",
    "    labels = pred.label_ids\n",
    "    preds = pred.predictions.argmax(-1)\n",
    "    f1 = f1_score(labels, preds, average='weighted')\n",
    "    acc = accuracy_score(labels, preds)\n",
    "    return {\n",
    "        'accuracy': acc,\n",
    "        'f1': f1\n",
    "    }"
   ]
  },
  {
   "cell_type": "code",
   "execution_count": 7,
   "metadata": {},
   "outputs": [
    {
     "data": {
      "application/vnd.jupyter.widget-view+json": {
       "model_id": "02f1578ed1a4494f871e648698e6c2a1",
       "version_major": 2,
       "version_minor": 0
      },
      "text/plain": [
       "VBox(children=(HTML(value='<center> <img\\nsrc=https://huggingface.co/front/assets/huggingface_logo-noborder.sv…"
      ]
     },
     "metadata": {},
     "output_type": "display_data"
    }
   ],
   "source": [
    "# log in to the huggingface hub\n",
    "notebook_login(HUGGINGFACE_TOKEN)"
   ]
  },
  {
   "cell_type": "code",
   "execution_count": 8,
   "metadata": {},
   "outputs": [
    {
     "data": {
      "text/html": [
       "\n",
       "    <div>\n",
       "      \n",
       "      <progress value='494' max='494' style='width:300px; height:20px; vertical-align: middle;'></progress>\n",
       "      [494/494 02:12, Epoch 2/2]\n",
       "    </div>\n",
       "    <table border=\"1\" class=\"dataframe\">\n",
       "  <thead>\n",
       " <tr style=\"text-align: left;\">\n",
       "      <th>Epoch</th>\n",
       "      <th>Training Loss</th>\n",
       "      <th>Validation Loss</th>\n",
       "      <th>Accuracy</th>\n",
       "      <th>F1</th>\n",
       "    </tr>\n",
       "  </thead>\n",
       "  <tbody>\n",
       "    <tr>\n",
       "      <td>1</td>\n",
       "      <td>0.808100</td>\n",
       "      <td>0.302724</td>\n",
       "      <td>0.906500</td>\n",
       "      <td>0.906481</td>\n",
       "    </tr>\n",
       "    <tr>\n",
       "      <td>2</td>\n",
       "      <td>0.246300</td>\n",
       "      <td>0.215319</td>\n",
       "      <td>0.924000</td>\n",
       "      <td>0.923973</td>\n",
       "    </tr>\n",
       "  </tbody>\n",
       "</table><p>"
      ],
      "text/plain": [
       "<IPython.core.display.HTML object>"
      ]
     },
     "metadata": {},
     "output_type": "display_data"
    },
    {
     "data": {
      "text/plain": [
       "TrainOutput(global_step=494, training_loss=0.5258128988115411, metrics={'train_runtime': 132.7656, 'train_samples_per_second': 241.026, 'train_steps_per_second': 3.721, 'total_flos': 720342861696000.0, 'train_loss': 0.5258128988115411, 'epoch': 2.0})"
      ]
     },
     "execution_count": 8,
     "metadata": {},
     "output_type": "execute_result"
    }
   ],
   "source": [
    "#let's define the training arguments and the trainer\n",
    "\n",
    "batch_size = 65\n",
    "logging_steps = len(emotions_encoded['train']) // batch_size\n",
    "model_name = f\"{model_ckpt}-finetuned-emotions\"\n",
    "training_args = TrainingArguments(\n",
    "    output_dir= os.path.join(PROJECT_DIR, \"data/models\", model_name),\n",
    "    num_train_epochs=2,\n",
    "    learning_rate=2e-5,\n",
    "    per_device_train_batch_size=batch_size,\n",
    "    per_device_eval_batch_size=batch_size,\n",
    "    weight_decay=0.01,\n",
    "    eval_strategy='epoch',\n",
    "    disable_tqdm=False,\n",
    "    logging_steps=logging_steps,\n",
    "    push_to_hub=True,\n",
    "    log_level='error',\n",
    ")\n",
    "\n",
    "trainer = Trainer(\n",
    "    model=model,\n",
    "    args=training_args,\n",
    "    compute_metrics=compute_metrics,\n",
    "    train_dataset=emotions_encoded['train'],\n",
    "    eval_dataset=emotions_encoded['validation'],\n",
    "    tokenizer=tokenizer\n",
    ")\n",
    "\n",
    "# training the model\n",
    "trainer.train()\n"
   ]
  },
  {
   "cell_type": "code",
   "execution_count": 9,
   "metadata": {},
   "outputs": [
    {
     "name": "stdout",
     "output_type": "stream",
     "text": [
      "['input_ids', 'attention_mask']\n",
      "input_ids\n"
     ]
    }
   ],
   "source": [
    "#Here I did not understand why one need to pass the tokenizer to the trainer, and how does the trainer\n",
    "# knows which columns from the dataset to use for the input and the labels.\n",
    "\n",
    "'''\n",
    "From this page: https://huggingface.co/docs/transformers/main_classes/trainer\n",
    "\n",
    "-  tokenizer (PreTrainedTokenizerBase, optional) — The tokenizer used to preprocess the data. \n",
    "If provided, will be used to automatically pad the inputs to the maximum length when batching inputs, \n",
    "and it will be saved along the model to make it easier to rerun an interrupted training or reuse the fine-tuned model. \n",
    "\n",
    "From this page: https://huggingface.co/docs/transformers/main_classes/model\n",
    "\n",
    "- main_input_name (str) — The name of the principal input to the model (often input_ids for NLP models, pixel_values for \n",
    "vision models and input_values for speech models).\n",
    "\n",
    "From this page: https://huggingface.co/docs/transformers/main_classes/tokenizer\n",
    "\n",
    "-  model_input_names (List[string], optional) — The list of inputs accepted by the forward pass of the model \n",
    "(like \"token_type_ids\" or \"attention_mask\"). Default value is picked from the class attribute of the same name. \n",
    "\n",
    "'''\n",
    "\n",
    "# Looks like the tokenizer is not needed as long as the dataset has the right columns, already tokenized\n",
    "# Also looks like the tokenizer and the model already have defined the names of the input columns they expect\n",
    "\n",
    "print(tokenizer.model_input_names)\n",
    "print(model.main_input_name)\n",
    "\n",
    "#It is strange thet one must pre-tokenize the dataset and then pas it to the trainer\n",
    "# I tried to pass the original dataset and the tokenizer and it throws an error. \n",
    "# Maybe in next chapters we will be able to stack the tokenizer and the model in a pipeline (???)\n"
   ]
  },
  {
   "cell_type": "code",
   "execution_count": 10,
   "metadata": {},
   "outputs": [
    {
     "data": {
      "text/html": [],
      "text/plain": [
       "<IPython.core.display.HTML object>"
      ]
     },
     "metadata": {},
     "output_type": "display_data"
    },
    {
     "name": "stdout",
     "output_type": "stream",
     "text": [
      "{'test_loss': 0.21531900763511658, 'test_accuracy': 0.924, 'test_f1': 0.923972683017933, 'test_runtime': 2.0624, 'test_samples_per_second': 969.734, 'test_steps_per_second': 15.031}\n"
     ]
    },
    {
     "data": {
      "image/png": "[encoded data removed]",
      "text/plain": [
       "<Figure size 600x600 with 1 Axes>"
      ]
     },
     "metadata": {},
     "output_type": "display_data"
    }
   ],
   "source": [
    "#plot confusion matrices\n",
    "def plot_confusion_matrix(y_pred, y_true, labels):\n",
    "    cm = confusion_matrix(y_true, y_pred, normalize='true')\n",
    "    fig, ax = plt.subplots(figsize=(6, 6))\n",
    "    disp = ConfusionMatrixDisplay(confusion_matrix=cm, display_labels=labels)\n",
    "    disp.plot(cmap='Blues', values_format='.2f', ax=ax, colorbar=False)\n",
    "    plt.title('Normalized Confusion Matrix')\n",
    "    plt.show()\n",
    "\n",
    "\n",
    "# Let's displa the predictions\n",
    "preds_output = trainer.predict(emotions_encoded['validation'])\n",
    "print(preds_output.metrics)\n",
    "\n",
    "# The predictions are logits!!!\n",
    "labels = emotions['train'].features['label'].names\n",
    "y_valid = emotions_encoded['validation']['label']\n",
    "y_preds = np.argmax(preds_output.predictions, axis=1)\n",
    "\n",
    "plot_confusion_matrix(y_preds, y_valid, labels)\n"
   ]
  },
  {
   "cell_type": "markdown",
   "metadata": {},
   "source": [
    "### Error Analysis"
   ]
  },
  {
   "cell_type": "code",
   "execution_count": null,
   "metadata": {},
   "outputs": [],
   "source": []
  },
  {
   "cell_type": "markdown",
   "metadata": {},
   "source": []
  }
 ],
 "metadata": {
  "kernelspec": {
   "display_name": "nlp-hf-lab",
   "language": "python",
   "name": "python3"
  },
  "language_info": {
   "codemirror_mode": {
    "name": "ipython",
    "version": 3
   },
   "file_extension": ".py",
   "mimetype": "text/x-python",
   "name": "python",
   "nbconvert_exporter": "python",
   "pygments_lexer": "ipython3",
   "version": "3.9.19"
  }
 },
 "nbformat": 4,
 "nbformat_minor": 2
}
