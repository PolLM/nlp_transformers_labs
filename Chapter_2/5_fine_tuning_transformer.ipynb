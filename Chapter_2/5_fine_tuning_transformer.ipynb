{
 "cells": [
  {
   "cell_type": "code",
   "execution_count": 16,
   "metadata": {},
   "outputs": [
    {
     "name": "stdout",
     "output_type": "stream",
     "text": [
      "Using device: cuda\n"
     ]
    }
   ],
   "source": [
    "#I am redoing this notebook since I lost it. \n",
    "# Reminder: Push to github more often, specialy when working on your old computer\n",
    "\n",
    "from datasets import load_dataset\n",
    "import pandas as pd\n",
    "import torch\n",
    "import torch.nn.functional as F\n",
    "from huggingface_hub import notebook_login\n",
    "from transformers import AutoTokenizer, AutoModelForSequenceClassification, Trainer, TrainingArguments, pipeline\n",
    "from sklearn.metrics import accuracy_score, f1_score, ConfusionMatrixDisplay, confusion_matrix\n",
    "import numpy as np\n",
    "import matplotlib.pyplot as plt\n",
    "import os\n",
    "from dotenv import load_dotenv\n",
    "\n",
    "#Loading the environment variables\n",
    "load_dotenv() \n",
    "\n",
    "PROJECT_DIR = os.getenv(\"PROJECT_DIR\")\n",
    "HUGGINGFACE_TOKEN = os.getenv(\"HUGGINGFACE_TOKEN\")\n",
    "\n",
    "\n",
    "device = torch.device('cuda' if torch.cuda.is_available() else 'cpu')\n",
    "print('Using device:', device)"
   ]
  },
  {
   "cell_type": "markdown",
   "metadata": {},
   "source": [
    "### Fine-tuning transformer model"
   ]
  },
  {
   "cell_type": "code",
   "execution_count": 2,
   "metadata": {},
   "outputs": [
    {
     "name": "stderr",
     "output_type": "stream",
     "text": [
      "Some weights of DistilBertForSequenceClassification were not initialized from the model checkpoint at distilbert-base-uncased and are newly initialized: ['classifier.bias', 'classifier.weight', 'pre_classifier.bias', 'pre_classifier.weight']\n",
      "You should probably TRAIN this model on a down-stream task to be able to use it for predictions and inference.\n"
     ]
    }
   ],
   "source": [
    "# loading the pretrained model, we are using AutoModelForSequenceClassification and not AutoModel\n",
    "# because we are interested in the classification head of the model\n",
    "#!!! Notice that the classification head is randomly initialized\n",
    "\n",
    "num_labels = 6\n",
    "model_ckpt = 'distilbert-base-uncased'\n",
    "\n",
    "tokenizer = AutoTokenizer.from_pretrained(model_ckpt)\n",
    "model = AutoModelForSequenceClassification.from_pretrained(model_ckpt, num_labels=num_labels).to(device)"
   ]
  },
  {
   "cell_type": "code",
   "execution_count": 3,
   "metadata": {},
   "outputs": [],
   "source": [
    "# Let's re-load the emotions dataset\n",
    "#Tokenizing the whole dataset\n",
    "def tokenize(batch):\n",
    "    return tokenizer(batch['text'], padding=True, truncation=True)\n",
    "\n",
    "#Load back the emotions dataset\n",
    "emotions = load_dataset(\"emotion\", trust_remote_code=True)\n",
    "emotions_encoded = emotions.map(tokenize, batched=True, batch_size=None)"
   ]
  },
  {
   "cell_type": "code",
   "execution_count": 4,
   "metadata": {},
   "outputs": [],
   "source": [
    "# metrics function for the Trainer\n",
    "\n",
    "def compute_metrics(pred):\n",
    "    labels = pred.label_ids\n",
    "    preds = pred.predictions.argmax(-1)\n",
    "    f1 = f1_score(labels, preds, average='weighted')\n",
    "    acc = accuracy_score(labels, preds)\n",
    "    return {\n",
    "        'accuracy': acc,\n",
    "        'f1': f1\n",
    "    }"
   ]
  },
  {
   "cell_type": "code",
   "execution_count": 5,
   "metadata": {},
   "outputs": [
    {
     "data": {
      "application/vnd.jupyter.widget-view+json": {
       "model_id": "d474b5889de5403dbf883792f88b4ac4",
       "version_major": 2,
       "version_minor": 0
      },
      "text/plain": [
       "VBox(children=(HTML(value='<center> <img\\nsrc=https://huggingface.co/front/assets/huggingface_logo-noborder.sv…"
      ]
     },
     "metadata": {},
     "output_type": "display_data"
    }
   ],
   "source": [
    "# log in to the huggingface hub\n",
    "notebook_login(HUGGINGFACE_TOKEN)"
   ]
  },
  {
   "cell_type": "code",
   "execution_count": 6,
   "metadata": {},
   "outputs": [
    {
     "data": {
      "text/html": [
       "\n",
       "    <div>\n",
       "      \n",
       "      <progress value='494' max='494' style='width:300px; height:20px; vertical-align: middle;'></progress>\n",
       "      [494/494 02:20, Epoch 2/2]\n",
       "    </div>\n",
       "    <table border=\"1\" class=\"dataframe\">\n",
       "  <thead>\n",
       " <tr style=\"text-align: left;\">\n",
       "      <th>Epoch</th>\n",
       "      <th>Training Loss</th>\n",
       "      <th>Validation Loss</th>\n",
       "      <th>Accuracy</th>\n",
       "      <th>F1</th>\n",
       "    </tr>\n",
       "  </thead>\n",
       "  <tbody>\n",
       "    <tr>\n",
       "      <td>1</td>\n",
       "      <td>0.828700</td>\n",
       "      <td>0.320141</td>\n",
       "      <td>0.908000</td>\n",
       "      <td>0.906642</td>\n",
       "    </tr>\n",
       "    <tr>\n",
       "      <td>2</td>\n",
       "      <td>0.258700</td>\n",
       "      <td>0.220463</td>\n",
       "      <td>0.925000</td>\n",
       "      <td>0.924790</td>\n",
       "    </tr>\n",
       "  </tbody>\n",
       "</table><p>"
      ],
      "text/plain": [
       "<IPython.core.display.HTML object>"
      ]
     },
     "metadata": {},
     "output_type": "display_data"
    },
    {
     "data": {
      "text/plain": [
       "TrainOutput(global_step=494, training_loss=0.5426330687063425, metrics={'train_runtime': 141.3004, 'train_samples_per_second': 226.468, 'train_steps_per_second': 3.496, 'total_flos': 720342861696000.0, 'train_loss': 0.5426330687063425, 'epoch': 2.0})"
      ]
     },
     "execution_count": 6,
     "metadata": {},
     "output_type": "execute_result"
    }
   ],
   "source": [
    "#let's define the training arguments and the trainer\n",
    "\n",
    "batch_size = 65\n",
    "logging_steps = len(emotions_encoded['train']) // batch_size\n",
    "model_name = f\"{model_ckpt}-finetuned-emotions\"\n",
    "training_args = TrainingArguments(\n",
    "    output_dir= os.path.join(PROJECT_DIR, \"data/models\", model_name),\n",
    "    num_train_epochs=2,\n",
    "    learning_rate=2e-5,\n",
    "    per_device_train_batch_size=batch_size,\n",
    "    per_device_eval_batch_size=batch_size,\n",
    "    weight_decay=0.01,\n",
    "    eval_strategy='epoch',\n",
    "    disable_tqdm=False,\n",
    "    logging_steps=logging_steps,\n",
    "    push_to_hub=True,\n",
    "    log_level='error',\n",
    ")\n",
    "\n",
    "trainer = Trainer(\n",
    "    model=model,\n",
    "    args=training_args,\n",
    "    compute_metrics=compute_metrics,\n",
    "    train_dataset=emotions_encoded['train'],\n",
    "    eval_dataset=emotions_encoded['validation'],\n",
    "    tokenizer=tokenizer\n",
    ")\n",
    "\n",
    "# training the model\n",
    "trainer.train()\n"
   ]
  },
  {
   "cell_type": "code",
   "execution_count": 7,
   "metadata": {},
   "outputs": [
    {
     "name": "stdout",
     "output_type": "stream",
     "text": [
      "['input_ids', 'attention_mask']\n",
      "input_ids\n"
     ]
    }
   ],
   "source": [
    "#Here I did not understand why one need to pass the tokenizer to the trainer, and how does the trainer\n",
    "# knows which columns from the dataset to use for the input and the labels.\n",
    "\n",
    "'''\n",
    "From this page: https://huggingface.co/docs/transformers/main_classes/trainer\n",
    "\n",
    "-  tokenizer (PreTrainedTokenizerBase, optional) — The tokenizer used to preprocess the data. \n",
    "If provided, will be used to automatically pad the inputs to the maximum length when batching inputs, \n",
    "and it will be saved along the model to make it easier to rerun an interrupted training or reuse the fine-tuned model. \n",
    "\n",
    "From this page: https://huggingface.co/docs/transformers/main_classes/model\n",
    "\n",
    "- main_input_name (str) — The name of the principal input to the model (often input_ids for NLP models, pixel_values for \n",
    "vision models and input_values for speech models).\n",
    "\n",
    "From this page: https://huggingface.co/docs/transformers/main_classes/tokenizer\n",
    "\n",
    "-  model_input_names (List[string], optional) — The list of inputs accepted by the forward pass of the model \n",
    "(like \"token_type_ids\" or \"attention_mask\"). Default value is picked from the class attribute of the same name. \n",
    "\n",
    "'''\n",
    "\n",
    "# Looks like the tokenizer is not needed as long as the dataset has the right columns, already tokenized\n",
    "# Also looks like the tokenizer and the model already have defined the names of the input columns they expect\n",
    "\n",
    "print(tokenizer.model_input_names)\n",
    "print(model.main_input_name)\n",
    "\n",
    "#It is strange thet one must pre-tokenize the dataset and then pas it to the trainer\n",
    "# I tried to pass the original dataset and the tokenizer and it throws an error. \n",
    "# Maybe in next chapters we will be able to stack the tokenizer and the model in a pipeline (???)\n"
   ]
  },
  {
   "cell_type": "code",
   "execution_count": 8,
   "metadata": {},
   "outputs": [
    {
     "data": {
      "text/html": [],
      "text/plain": [
       "<IPython.core.display.HTML object>"
      ]
     },
     "metadata": {},
     "output_type": "display_data"
    },
    {
     "name": "stdout",
     "output_type": "stream",
     "text": [
      "{'test_loss': 0.22046303749084473, 'test_accuracy': 0.925, 'test_f1': 0.9247899609228295, 'test_runtime': 2.1815, 'test_samples_per_second': 916.798, 'test_steps_per_second': 14.21}\n"
     ]
    },
    {
     "data": {
      "image/png": "[encoded data removed]",
      "text/plain": [
       "<Figure size 600x600 with 1 Axes>"
      ]
     },
     "metadata": {},
     "output_type": "display_data"
    }
   ],
   "source": [
    "#plot confusion matrices\n",
    "def plot_confusion_matrix(y_pred, y_true, labels):\n",
    "    cm = confusion_matrix(y_true, y_pred, normalize='true')\n",
    "    fig, ax = plt.subplots(figsize=(6, 6))\n",
    "    disp = ConfusionMatrixDisplay(confusion_matrix=cm, display_labels=labels)\n",
    "    disp.plot(cmap='Blues', values_format='.2f', ax=ax, colorbar=False)\n",
    "    plt.title('Normalized Confusion Matrix')\n",
    "    plt.show()\n",
    "\n",
    "\n",
    "# Let's displa the predictions\n",
    "preds_output = trainer.predict(emotions_encoded['validation'])\n",
    "print(preds_output.metrics)\n",
    "\n",
    "# The predictions are logits!!!\n",
    "labels = emotions['train'].features['label'].names\n",
    "y_valid = emotions_encoded['validation']['label']\n",
    "y_preds = np.argmax(preds_output.predictions, axis=1)\n",
    "\n",
    "plot_confusion_matrix(y_preds, y_valid, labels)\n"
   ]
  },
  {
   "cell_type": "markdown",
   "metadata": {},
   "source": [
    "### Error Analysis"
   ]
  },
  {
   "cell_type": "code",
   "execution_count": 10,
   "metadata": {},
   "outputs": [
    {
     "data": {
      "application/vnd.jupyter.widget-view+json": {
       "model_id": "e51a28529e1a40c4846630c7c8f4c681",
       "version_major": 2,
       "version_minor": 0
      },
      "text/plain": [
       "Map:   0%|          | 0/2000 [00:00<?, ? examples/s]"
      ]
     },
     "metadata": {},
     "output_type": "display_data"
    }
   ],
   "source": [
    "def forwar_pass_with_label(batch):\n",
    "    # all tensors are moved to the device\n",
    "    inputs = {k: v.to(device) for k, v in batch.items() if k in tokenizer.model_input_names} # here we cans ee the model_input_names\n",
    "\n",
    "    with torch.no_grad():\n",
    "        outputs = model(**inputs)\n",
    "        pred_label = torch.argmax(F.softmax(outputs.logits, dim=1), dim=1)\n",
    "        loss = F.cross_entropy(outputs.logits, batch['label'].to(device), reduction='none')\n",
    "\n",
    "    # we return the loss and the predicted labels to cpu \n",
    "    return {'loss': loss.cpu().numpy(), 'pred_label': pred_label.cpu().numpy()}\n",
    "\n",
    "# Convert dataset to pytoech tensors\n",
    "emotions_encoded.set_format(type='torch', columns=['input_ids', 'attention_mask', 'label'])\n",
    "\n",
    "# Let's compute the loss and the predicted labels for the validation set\n",
    "emotions_encoded['validation'] = emotions_encoded['validation'].map(forwar_pass_with_label,\n",
    "                                                                    batched=True,\n",
    "                                                                    batch_size=16)"
   ]
  },
  {
   "cell_type": "code",
   "execution_count": 12,
   "metadata": {},
   "outputs": [],
   "source": [
    "def label_int2str(idx): # renamed row with idx, since we are passing single value from each row, 'label' column\n",
    "    return emotions['train'].features['label'].int2str(idx)\n",
    "\n",
    "# Create a dataframe\n",
    "emotions_encoded.set_format(type='pandas')\n",
    "cols = ['text', 'label', 'pred_label', 'loss']\n",
    "df_test = emotions_encoded['validation'][:][cols]\n",
    "df_test['label'] = df_test['label'].apply(label_int2str)\n",
    "df_test['pred_label'] = df_test['pred_label'].apply(label_int2str)\n",
    "\n",
    "#Goals of this error analysis:\n",
    "# 1. Detect wrong or ambiguous labels (sort top biggest losses)\n",
    "# 2. Detect quirks of the dataset (sort top biggest losses)\n",
    "# 3. Detect shortcuts or trivial solutions the model might have learned (sort top smallest losses)"
   ]
  },
  {
   "cell_type": "code",
   "execution_count": 13,
   "metadata": {},
   "outputs": [
    {
     "data": {
      "text/html": [
       "<div>\n",
       "<style scoped>\n",
       "    .dataframe tbody tr th:only-of-type {\n",
       "        vertical-align: middle;\n",
       "    }\n",
       "\n",
       "    .dataframe tbody tr th {\n",
       "        vertical-align: top;\n",
       "    }\n",
       "\n",
       "    .dataframe thead th {\n",
       "        text-align: right;\n",
       "    }\n",
       "</style>\n",
       "<table border=\"1\" class=\"dataframe\">\n",
       "  <thead>\n",
       "    <tr style=\"text-align: right;\">\n",
       "      <th></th>\n",
       "      <th>text</th>\n",
       "      <th>label</th>\n",
       "      <th>pred_label</th>\n",
       "      <th>loss</th>\n",
       "    </tr>\n",
       "  </thead>\n",
       "  <tbody>\n",
       "    <tr>\n",
       "      <th>1950</th>\n",
       "      <td>i as representative of everything thats wrong ...</td>\n",
       "      <td>surprise</td>\n",
       "      <td>sadness</td>\n",
       "      <td>5.491887</td>\n",
       "    </tr>\n",
       "    <tr>\n",
       "      <th>1963</th>\n",
       "      <td>i called myself pro life and voted for perry w...</td>\n",
       "      <td>joy</td>\n",
       "      <td>sadness</td>\n",
       "      <td>5.410417</td>\n",
       "    </tr>\n",
       "    <tr>\n",
       "      <th>1870</th>\n",
       "      <td>i guess i feel betrayed because i admired him ...</td>\n",
       "      <td>joy</td>\n",
       "      <td>sadness</td>\n",
       "      <td>5.353358</td>\n",
       "    </tr>\n",
       "    <tr>\n",
       "      <th>882</th>\n",
       "      <td>i feel badly about reneging on my commitment t...</td>\n",
       "      <td>love</td>\n",
       "      <td>sadness</td>\n",
       "      <td>5.315874</td>\n",
       "    </tr>\n",
       "    <tr>\n",
       "      <th>1801</th>\n",
       "      <td>i feel that he was being overshadowed by the s...</td>\n",
       "      <td>love</td>\n",
       "      <td>sadness</td>\n",
       "      <td>5.277585</td>\n",
       "    </tr>\n",
       "    <tr>\n",
       "      <th>1274</th>\n",
       "      <td>i am going to several holiday parties and i ca...</td>\n",
       "      <td>joy</td>\n",
       "      <td>sadness</td>\n",
       "      <td>5.058387</td>\n",
       "    </tr>\n",
       "    <tr>\n",
       "      <th>1500</th>\n",
       "      <td>i guess we would naturally feel a sense of lon...</td>\n",
       "      <td>anger</td>\n",
       "      <td>sadness</td>\n",
       "      <td>5.056861</td>\n",
       "    </tr>\n",
       "    <tr>\n",
       "      <th>765</th>\n",
       "      <td>i feel super awkward and out of place right now</td>\n",
       "      <td>joy</td>\n",
       "      <td>sadness</td>\n",
       "      <td>4.919912</td>\n",
       "    </tr>\n",
       "    <tr>\n",
       "      <th>1111</th>\n",
       "      <td>im lazy my characters fall into categories of ...</td>\n",
       "      <td>joy</td>\n",
       "      <td>fear</td>\n",
       "      <td>4.844726</td>\n",
       "    </tr>\n",
       "    <tr>\n",
       "      <th>465</th>\n",
       "      <td>i would eventually go in to these stores but i...</td>\n",
       "      <td>joy</td>\n",
       "      <td>fear</td>\n",
       "      <td>4.800522</td>\n",
       "    </tr>\n",
       "  </tbody>\n",
       "</table>\n",
       "</div>"
      ],
      "text/plain": [
       "                                                   text     label pred_label  \\\n",
       "1950  i as representative of everything thats wrong ...  surprise    sadness   \n",
       "1963  i called myself pro life and voted for perry w...       joy    sadness   \n",
       "1870  i guess i feel betrayed because i admired him ...       joy    sadness   \n",
       "882   i feel badly about reneging on my commitment t...      love    sadness   \n",
       "1801  i feel that he was being overshadowed by the s...      love    sadness   \n",
       "1274  i am going to several holiday parties and i ca...       joy    sadness   \n",
       "1500  i guess we would naturally feel a sense of lon...     anger    sadness   \n",
       "765     i feel super awkward and out of place right now       joy    sadness   \n",
       "1111  im lazy my characters fall into categories of ...       joy       fear   \n",
       "465   i would eventually go in to these stores but i...       joy       fear   \n",
       "\n",
       "          loss  \n",
       "1950  5.491887  \n",
       "1963  5.410417  \n",
       "1870  5.353358  \n",
       "882   5.315874  \n",
       "1801  5.277585  \n",
       "1274  5.058387  \n",
       "1500  5.056861  \n",
       "765   4.919912  \n",
       "1111  4.844726  \n",
       "465   4.800522  "
      ]
     },
     "execution_count": 13,
     "metadata": {},
     "output_type": "execute_result"
    }
   ],
   "source": [
    "df_test.sort_values('loss', ascending=False).head(10)"
   ]
  },
  {
   "cell_type": "code",
   "execution_count": 14,
   "metadata": {},
   "outputs": [
    {
     "data": {
      "text/html": [
       "<div>\n",
       "<style scoped>\n",
       "    .dataframe tbody tr th:only-of-type {\n",
       "        vertical-align: middle;\n",
       "    }\n",
       "\n",
       "    .dataframe tbody tr th {\n",
       "        vertical-align: top;\n",
       "    }\n",
       "\n",
       "    .dataframe thead th {\n",
       "        text-align: right;\n",
       "    }\n",
       "</style>\n",
       "<table border=\"1\" class=\"dataframe\">\n",
       "  <thead>\n",
       "    <tr style=\"text-align: right;\">\n",
       "      <th></th>\n",
       "      <th>text</th>\n",
       "      <th>label</th>\n",
       "      <th>pred_label</th>\n",
       "      <th>loss</th>\n",
       "    </tr>\n",
       "  </thead>\n",
       "  <tbody>\n",
       "    <tr>\n",
       "      <th>1310</th>\n",
       "      <td>i feel like an ungrateful asshole</td>\n",
       "      <td>sadness</td>\n",
       "      <td>sadness</td>\n",
       "      <td>0.017282</td>\n",
       "    </tr>\n",
       "    <tr>\n",
       "      <th>133</th>\n",
       "      <td>i and feel quite ungrateful for it but i m loo...</td>\n",
       "      <td>sadness</td>\n",
       "      <td>sadness</td>\n",
       "      <td>0.017332</td>\n",
       "    </tr>\n",
       "    <tr>\n",
       "      <th>21</th>\n",
       "      <td>i feel try to tell me im ungrateful tell me im...</td>\n",
       "      <td>sadness</td>\n",
       "      <td>sadness</td>\n",
       "      <td>0.017589</td>\n",
       "    </tr>\n",
       "    <tr>\n",
       "      <th>1531</th>\n",
       "      <td>i forgive stanley hes not so quick to forgive ...</td>\n",
       "      <td>sadness</td>\n",
       "      <td>sadness</td>\n",
       "      <td>0.017641</td>\n",
       "    </tr>\n",
       "    <tr>\n",
       "      <th>1861</th>\n",
       "      <td>im tired of feeling lethargic hating to work o...</td>\n",
       "      <td>sadness</td>\n",
       "      <td>sadness</td>\n",
       "      <td>0.017783</td>\n",
       "    </tr>\n",
       "    <tr>\n",
       "      <th>1502</th>\n",
       "      <td>i feel ungrateful for stupid shit like</td>\n",
       "      <td>sadness</td>\n",
       "      <td>sadness</td>\n",
       "      <td>0.017883</td>\n",
       "    </tr>\n",
       "    <tr>\n",
       "      <th>1656</th>\n",
       "      <td>im feeling very jaded and uncertain about love...</td>\n",
       "      <td>sadness</td>\n",
       "      <td>sadness</td>\n",
       "      <td>0.017884</td>\n",
       "    </tr>\n",
       "    <tr>\n",
       "      <th>1152</th>\n",
       "      <td>i feel pathetic because i shouldn t complain a...</td>\n",
       "      <td>sadness</td>\n",
       "      <td>sadness</td>\n",
       "      <td>0.017948</td>\n",
       "    </tr>\n",
       "    <tr>\n",
       "      <th>1041</th>\n",
       "      <td>i suppose it all goes along with feeling unwel...</td>\n",
       "      <td>sadness</td>\n",
       "      <td>sadness</td>\n",
       "      <td>0.018034</td>\n",
       "    </tr>\n",
       "    <tr>\n",
       "      <th>1460</th>\n",
       "      <td>i end up feeling lonely</td>\n",
       "      <td>sadness</td>\n",
       "      <td>sadness</td>\n",
       "      <td>0.018093</td>\n",
       "    </tr>\n",
       "  </tbody>\n",
       "</table>\n",
       "</div>"
      ],
      "text/plain": [
       "                                                   text    label pred_label  \\\n",
       "1310                  i feel like an ungrateful asshole  sadness    sadness   \n",
       "133   i and feel quite ungrateful for it but i m loo...  sadness    sadness   \n",
       "21    i feel try to tell me im ungrateful tell me im...  sadness    sadness   \n",
       "1531  i forgive stanley hes not so quick to forgive ...  sadness    sadness   \n",
       "1861  im tired of feeling lethargic hating to work o...  sadness    sadness   \n",
       "1502             i feel ungrateful for stupid shit like  sadness    sadness   \n",
       "1656  im feeling very jaded and uncertain about love...  sadness    sadness   \n",
       "1152  i feel pathetic because i shouldn t complain a...  sadness    sadness   \n",
       "1041  i suppose it all goes along with feeling unwel...  sadness    sadness   \n",
       "1460                            i end up feeling lonely  sadness    sadness   \n",
       "\n",
       "          loss  \n",
       "1310  0.017282  \n",
       "133   0.017332  \n",
       "21    0.017589  \n",
       "1531  0.017641  \n",
       "1861  0.017783  \n",
       "1502  0.017883  \n",
       "1656  0.017884  \n",
       "1152  0.017948  \n",
       "1041  0.018034  \n",
       "1460  0.018093  "
      ]
     },
     "execution_count": 14,
     "metadata": {},
     "output_type": "execute_result"
    }
   ],
   "source": [
    "df_test.sort_values('loss', ascending=True).head(10)"
   ]
  },
  {
   "cell_type": "markdown",
   "metadata": {},
   "source": [
    "### Saving and sharing the model"
   ]
  },
  {
   "cell_type": "code",
   "execution_count": 15,
   "metadata": {},
   "outputs": [
    {
     "data": {
      "text/plain": [
       "CommitInfo(commit_url='https://huggingface.co/PolLM/distilbert-base-uncased-finetuned-emotions/commit/70b2a7284be01913dcaee66ac47bcf567e283a68', commit_message='Training completed!', commit_description='', oid='70b2a7284be01913dcaee66ac47bcf567e283a68', pr_url=None, pr_revision=None, pr_num=None)"
      ]
     },
     "execution_count": 15,
     "metadata": {},
     "output_type": "execute_result"
    }
   ],
   "source": [
    "# push the model to the huggingface model hub\n",
    "# I do not understand why we need to push the model to the hub, since we are already pushing it in the Trainer\n",
    "# when we set the push_to_hub=True ???\n",
    "\n",
    "trainer.push_to_hub(commit_message=\"Training completed!\")"
   ]
  },
  {
   "cell_type": "code",
   "execution_count": 17,
   "metadata": {},
   "outputs": [
    {
     "data": {
      "application/vnd.jupyter.widget-view+json": {
       "model_id": "f92ee980d50a4064857cb076cc1ec644",
       "version_major": 2,
       "version_minor": 0
      },
      "text/plain": [
       "config.json:   0%|          | 0.00/883 [00:00<?, ?B/s]"
      ]
     },
     "metadata": {},
     "output_type": "display_data"
    },
    {
     "data": {
      "application/vnd.jupyter.widget-view+json": {
       "model_id": "16ae00be49dd4a52821347d78c552eb4",
       "version_major": 2,
       "version_minor": 0
      },
      "text/plain": [
       "model.safetensors:   0%|          | 0.00/268M [00:00<?, ?B/s]"
      ]
     },
     "metadata": {},
     "output_type": "display_data"
    },
    {
     "data": {
      "application/vnd.jupyter.widget-view+json": {
       "model_id": "077a53dc565e4622877c5d1ef401d9cb",
       "version_major": 2,
       "version_minor": 0
      },
      "text/plain": [
       "tokenizer_config.json:   0%|          | 0.00/1.20k [00:00<?, ?B/s]"
      ]
     },
     "metadata": {},
     "output_type": "display_data"
    },
    {
     "data": {
      "application/vnd.jupyter.widget-view+json": {
       "model_id": "7b55750a9db74dcb977f3ae2de717730",
       "version_major": 2,
       "version_minor": 0
      },
      "text/plain": [
       "vocab.txt:   0%|          | 0.00/232k [00:00<?, ?B/s]"
      ]
     },
     "metadata": {},
     "output_type": "display_data"
    },
    {
     "data": {
      "application/vnd.jupyter.widget-view+json": {
       "model_id": "e1d6fb3f416d461b830a0f89dd917e74",
       "version_major": 2,
       "version_minor": 0
      },
      "text/plain": [
       "tokenizer.json:   0%|          | 0.00/711k [00:00<?, ?B/s]"
      ]
     },
     "metadata": {},
     "output_type": "display_data"
    },
    {
     "data": {
      "application/vnd.jupyter.widget-view+json": {
       "model_id": "521ef8fe17194a41bbd200d4ade0429e",
       "version_major": 2,
       "version_minor": 0
      },
      "text/plain": [
       "special_tokens_map.json:   0%|          | 0.00/125 [00:00<?, ?B/s]"
      ]
     },
     "metadata": {},
     "output_type": "display_data"
    }
   ],
   "source": [
    "#Let's load the model from the hub\n",
    "# looks like that when pulling from the hub the tokenizer is already included in the model\n",
    "# this may be a good reason to add the tokenizer to the model when training\n",
    "model_id = \"PolLM/distilbert-base-uncased-finetuned-emotions\"\n",
    "classifier = pipeline('text-classification', model=model_id)\n",
    "\n"
   ]
  },
  {
   "cell_type": "code",
   "execution_count": 25,
   "metadata": {},
   "outputs": [
    {
     "name": "stderr",
     "output_type": "stream",
     "text": [
      "/home/pol/anaconda3/envs/nlp-hf-lab/lib/python3.9/site-packages/transformers/pipelines/text_classification.py:104: UserWarning: `return_all_scores` is now deprecated,  if want a similar functionality use `top_k=None` instead of `return_all_scores=True` or `top_k=1` instead of `return_all_scores=False`.\n",
      "  warnings.warn(\n"
     ]
    },
    {
     "data": {
      "image/png": "[encoded data removed]",
      "text/plain": [
       "<Figure size 640x480 with 1 Axes>"
      ]
     },
     "metadata": {},
     "output_type": "display_data"
    }
   ],
   "source": [
    "#Let's test the model!!!!\n",
    "\n",
    "custom_tweet = \"I saw a movie today and it was really good!\"\n",
    "#let's make it more difficult (to be fair the emotion disappointment is not a class in the dataset)\n",
    "custom_tweet_2 = \"I saw a movie today, and... yikes! After 5 minutes I was not seated, I was leaving. \"\n",
    "\n",
    "preds = classifier(custom_tweet, return_all_scores=True)\n",
    "preds_df = pd.DataFrame(preds[0])\n",
    "plt.bar(labels, 100*preds_df['score'], color='C0')\n",
    "plt.title(f\"{custom_tweet_2}\")\n",
    "plt.ylabel('Class Probability (%)')\n",
    "plt.xlabel('Emotion')\n",
    "plt.grid(axis='y' , linestyle='--', alpha=0.6)\n",
    "plt.show()"
   ]
  },
  {
   "cell_type": "code",
   "execution_count": null,
   "metadata": {},
   "outputs": [],
   "source": []
  }
 ],
 "metadata": {
  "kernelspec": {
   "display_name": "nlp-hf-lab",
   "language": "python",
   "name": "python3"
  },
  "language_info": {
   "codemirror_mode": {
    "name": "ipython",
    "version": 3
   },
   "file_extension": ".py",
   "mimetype": "text/x-python",
   "name": "python",
   "nbconvert_exporter": "python",
   "pygments_lexer": "ipython3",
   "version": "3.9.19"
  }
 },
 "nbformat": 4,
 "nbformat_minor": 2
}
